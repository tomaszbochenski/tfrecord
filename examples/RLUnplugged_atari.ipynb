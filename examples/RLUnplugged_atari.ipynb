{
 "cells": [
  {
   "cell_type": "code",
   "execution_count": 1,
   "metadata": {},
   "outputs": [
    {
     "name": "stdout",
     "output_type": "stream",
     "text": [
      "Found existing installation: tfrecord 1.13\n",
      "Uninstalling tfrecord-1.13:\n",
      "  Successfully uninstalled tfrecord-1.13\n"
     ]
    }
   ],
   "source": [
    "!pip3 uninstall -y tfrecord"
   ]
  },
  {
   "cell_type": "code",
   "execution_count": 2,
   "metadata": {},
   "outputs": [
    {
     "name": "stdout",
     "output_type": "stream",
     "text": [
      "\u001b[33mWARNING: Package(s) not found: tfrecord\u001b[0m\n"
     ]
    }
   ],
   "source": [
    "!pip3 show tfrecord"
   ]
  },
  {
   "cell_type": "code",
   "execution_count": 3,
   "metadata": {},
   "outputs": [
    {
     "name": "stdout",
     "output_type": "stream",
     "text": [
      "Collecting git+https://github.com/tomaszbochenski/tfrecord.git@RLUnplugged_Atari_support\n",
      "  Cloning https://github.com/tomaszbochenski/tfrecord.git (to revision RLUnplugged_Atari_support) to /tmp/pip-req-build-d4b7p9rc\n",
      "Requirement already satisfied: numpy in /opt/conda/lib/python3.7/site-packages (from tfrecord==1.13) (1.18.1)\n",
      "Requirement already satisfied: protobuf in /opt/conda/lib/python3.7/site-packages (from tfrecord==1.13) (3.13.0)\n",
      "Requirement already satisfied: crc32c in /opt/conda/lib/python3.7/site-packages (from tfrecord==1.13) (2.2)\n",
      "Requirement already satisfied: Pillow in /opt/conda/lib/python3.7/site-packages (from tfrecord==1.13) (8.0.1)\n",
      "Requirement already satisfied: python-magic in /opt/conda/lib/python3.7/site-packages (from tfrecord==1.13) (0.4.22)\n",
      "Requirement already satisfied: gcsfs in /opt/conda/lib/python3.7/site-packages (from tfrecord==1.13) (0.7.1)\n",
      "Requirement already satisfied: six>=1.9 in /opt/conda/lib/python3.7/site-packages (from protobuf->tfrecord==1.13) (1.15.0)\n",
      "Requirement already satisfied: setuptools in /opt/conda/lib/python3.7/site-packages (from protobuf->tfrecord==1.13) (49.6.0.post20201009)\n",
      "Requirement already satisfied: decorator in /opt/conda/lib/python3.7/site-packages (from gcsfs->tfrecord==1.13) (4.4.2)\n",
      "Requirement already satisfied: requests in /opt/conda/lib/python3.7/site-packages (from gcsfs->tfrecord==1.13) (2.24.0)\n",
      "Requirement already satisfied: fsspec>=0.8.0 in /opt/conda/lib/python3.7/site-packages (from gcsfs->tfrecord==1.13) (0.8.0)\n",
      "Requirement already satisfied: google-auth>=1.2 in /opt/conda/lib/python3.7/site-packages (from gcsfs->tfrecord==1.13) (1.23.0)\n",
      "Requirement already satisfied: google-auth-oauthlib in /opt/conda/lib/python3.7/site-packages (from gcsfs->tfrecord==1.13) (0.4.2)\n",
      "Requirement already satisfied: aiohttp in /opt/conda/lib/python3.7/site-packages (from gcsfs->tfrecord==1.13) (3.7.2)\n",
      "Requirement already satisfied: idna<3,>=2.5 in /opt/conda/lib/python3.7/site-packages (from requests->gcsfs->tfrecord==1.13) (2.10)\n",
      "Requirement already satisfied: urllib3!=1.25.0,!=1.25.1,<1.26,>=1.21.1 in /opt/conda/lib/python3.7/site-packages (from requests->gcsfs->tfrecord==1.13) (1.25.11)\n",
      "Requirement already satisfied: chardet<4,>=3.0.2 in /opt/conda/lib/python3.7/site-packages (from requests->gcsfs->tfrecord==1.13) (3.0.4)\n",
      "Requirement already satisfied: certifi>=2017.4.17 in /opt/conda/lib/python3.7/site-packages (from requests->gcsfs->tfrecord==1.13) (2020.6.20)\n",
      "Requirement already satisfied: rsa<5,>=3.1.4; python_version >= \"3.5\" in /opt/conda/lib/python3.7/site-packages (from google-auth>=1.2->gcsfs->tfrecord==1.13) (4.6)\n",
      "Requirement already satisfied: cachetools<5.0,>=2.0.0 in /opt/conda/lib/python3.7/site-packages (from google-auth>=1.2->gcsfs->tfrecord==1.13) (4.1.1)\n",
      "Requirement already satisfied: pyasn1-modules>=0.2.1 in /opt/conda/lib/python3.7/site-packages (from google-auth>=1.2->gcsfs->tfrecord==1.13) (0.2.7)\n",
      "Requirement already satisfied: requests-oauthlib>=0.7.0 in /opt/conda/lib/python3.7/site-packages (from google-auth-oauthlib->gcsfs->tfrecord==1.13) (1.3.0)\n",
      "Requirement already satisfied: yarl<2.0,>=1.0 in /opt/conda/lib/python3.7/site-packages (from aiohttp->gcsfs->tfrecord==1.13) (1.6.2)\n",
      "Requirement already satisfied: attrs>=17.3.0 in /opt/conda/lib/python3.7/site-packages (from aiohttp->gcsfs->tfrecord==1.13) (20.2.0)\n",
      "Requirement already satisfied: async-timeout<4.0,>=3.0 in /opt/conda/lib/python3.7/site-packages (from aiohttp->gcsfs->tfrecord==1.13) (3.0.1)\n",
      "Requirement already satisfied: multidict<7.0,>=4.5 in /opt/conda/lib/python3.7/site-packages (from aiohttp->gcsfs->tfrecord==1.13) (4.7.5)\n",
      "Requirement already satisfied: typing-extensions>=3.6.5 in /opt/conda/lib/python3.7/site-packages (from aiohttp->gcsfs->tfrecord==1.13) (3.7.4.3)\n",
      "Requirement already satisfied: pyasn1>=0.1.3 in /opt/conda/lib/python3.7/site-packages (from rsa<5,>=3.1.4; python_version >= \"3.5\"->google-auth>=1.2->gcsfs->tfrecord==1.13) (0.4.8)\n",
      "Requirement already satisfied: oauthlib>=3.0.0 in /opt/conda/lib/python3.7/site-packages (from requests-oauthlib>=0.7.0->google-auth-oauthlib->gcsfs->tfrecord==1.13) (3.0.1)\n",
      "Building wheels for collected packages: tfrecord\n",
      "  Building wheel for tfrecord (setup.py) ... \u001b[?25ldone\n",
      "\u001b[?25h  Created wheel for tfrecord: filename=tfrecord-1.13-py3-none-any.whl size=15385 sha256=ccc37ce2f3afd4e5c653596f54db5ab65c96568cb6a80772ea2c7f945e730964\n",
      "  Stored in directory: /tmp/pip-ephem-wheel-cache-oxmi_8mq/wheels/62/9c/d1/c537471c58a004dd8f6a10967c64675059c1f967df4c7bd0c2\n",
      "Successfully built tfrecord\n",
      "Installing collected packages: tfrecord\n",
      "Successfully installed tfrecord-1.13\n"
     ]
    }
   ],
   "source": [
    "!pip3 install git+https://github.com/tomaszbochenski/tfrecord.git@RLUnplugged_Atari_support"
   ]
  },
  {
   "cell_type": "code",
   "execution_count": 4,
   "metadata": {},
   "outputs": [],
   "source": [
    "ACTIONS = [\n",
    "    \"noop\", \"fire\", \"up\", \"right\", \"left\", \"down\", \"up-right\", \"up-left\",\n",
    "    \"down-right\", \"down-left\", \"up-fire\", \"right-fire\", \"left-fire\",\"down-fire\",\n",
    "    \"up-right-fire\", \"up-left-fire\", \"down-right-fire\", \"down-left-fire\"\n",
    "]"
   ]
  },
  {
   "cell_type": "code",
   "execution_count": 5,
   "metadata": {},
   "outputs": [],
   "source": [
    "from tfrecord.torch.dataset import MultiTFRecordDataset\n",
    "from PIL import Image\n",
    "import matplotlib.pyplot as plt"
   ]
  },
  {
   "cell_type": "code",
   "execution_count": 6,
   "metadata": {},
   "outputs": [],
   "source": [
    "def show_state(state, pad=2):\n",
    "    frames = [Image.fromarray(state[:, :, i], \"L\") for i in range(state.shape[2])]\n",
    "    width, height = frames[0].size\n",
    "    dst = Image.new(\"L\", ((width + 2) * len(frames) - 2, height))\n",
    "    for idx, fr in enumerate(frames):\n",
    "        dst.paste(fr, (idx * (width + 2), 0))\n",
    "    plt.figure(figsize = (15,10))\n",
    "    plt.imshow(dst, cmap=\"gray\")"
   ]
  },
  {
   "cell_type": "code",
   "execution_count": 7,
   "metadata": {},
   "outputs": [],
   "source": [
    "tfrecord_pattern = \"gs://rl_unplugged/atari/Seaquest/run_1-{}-of-00100\"\n",
    "index_pattern = None\n",
    "splits = {\n",
    "    \"00000\": 1/3,\n",
    "    \"00001\": 1/3,\n",
    "    \"00002\": 1/3,\n",
    "}\n",
    "description = None\n",
    "shuffle_queue_size = 1024\n",
    "compression_type = \"GZIP\""
   ]
  },
  {
   "cell_type": "code",
   "execution_count": 8,
   "metadata": {},
   "outputs": [],
   "source": [
    "dataset = MultiTFRecordDataset(\n",
    "    data_pattern=tfrecord_pattern,\n",
    "    index_pattern=index_pattern, \n",
    "    splits=splits,\n",
    "    description=description,\n",
    "    shuffle_queue_size=shuffle_queue_size,\n",
    "    compression_type=compression_type,\n",
    ")"
   ]
  },
  {
   "cell_type": "code",
   "execution_count": 9,
   "metadata": {},
   "outputs": [],
   "source": [
    "transition = next(iter(dataset))"
   ]
  },
  {
   "cell_type": "markdown",
   "metadata": {},
   "source": [
    "### Observation at time t"
   ]
  },
  {
   "cell_type": "code",
   "execution_count": 10,
   "metadata": {},
   "outputs": [
    {
     "data": {
      "image/png": "[encoded data removed]",
      "text/plain": [
       "<Figure size 1080x720 with 1 Axes>"
      ]
     },
     "metadata": {
      "needs_background": "light"
     },
     "output_type": "display_data"
    }
   ],
   "source": [
    "show_state(transition['o_t'])"
   ]
  },
  {
   "cell_type": "markdown",
   "metadata": {},
   "source": [
    "### Observation at time t+1"
   ]
  },
  {
   "cell_type": "code",
   "execution_count": 11,
   "metadata": {},
   "outputs": [
    {
     "data": {
      "image/png": "[encoded data removed]",
      "text/plain": [
       "<Figure size 1080x720 with 1 Axes>"
      ]
     },
     "metadata": {
      "needs_background": "light"
     },
     "output_type": "display_data"
    }
   ],
   "source": [
    "show_state(transition[\"o_tp1\"])"
   ]
  },
  {
   "cell_type": "markdown",
   "metadata": {},
   "source": [
    "### Action at time t"
   ]
  },
  {
   "cell_type": "code",
   "execution_count": 12,
   "metadata": {},
   "outputs": [
    {
     "data": {
      "text/plain": [
       "'left'"
      ]
     },
     "execution_count": 12,
     "metadata": {},
     "output_type": "execute_result"
    }
   ],
   "source": [
    "ACTIONS[transition[\"a_t\"][0]]"
   ]
  },
  {
   "cell_type": "markdown",
   "metadata": {},
   "source": [
    "### Action at time t+1"
   ]
  },
  {
   "cell_type": "code",
   "execution_count": 13,
   "metadata": {},
   "outputs": [
    {
     "data": {
      "text/plain": [
       "'up-right'"
      ]
     },
     "execution_count": 13,
     "metadata": {},
     "output_type": "execute_result"
    }
   ],
   "source": [
    "ACTIONS[transition[\"a_tp1\"][0]]"
   ]
  },
  {
   "cell_type": "markdown",
   "metadata": {},
   "source": [
    "### Reward at time t"
   ]
  },
  {
   "cell_type": "code",
   "execution_count": 14,
   "metadata": {},
   "outputs": [
    {
     "data": {
      "text/plain": [
       "0.0"
      ]
     },
     "execution_count": 14,
     "metadata": {},
     "output_type": "execute_result"
    }
   ],
   "source": [
    "transition[\"r_t\"][0]"
   ]
  },
  {
   "cell_type": "markdown",
   "metadata": {},
   "source": [
    "### Discount at time t"
   ]
  },
  {
   "cell_type": "code",
   "execution_count": 15,
   "metadata": {},
   "outputs": [
    {
     "data": {
      "text/plain": [
       "1.0"
      ]
     },
     "execution_count": 15,
     "metadata": {},
     "output_type": "execute_result"
    }
   ],
   "source": [
    "transition[\"d_t\"][0]"
   ]
  },
  {
   "cell_type": "markdown",
   "metadata": {},
   "source": [
    "### Episode ID"
   ]
  },
  {
   "cell_type": "code",
   "execution_count": 16,
   "metadata": {},
   "outputs": [
    {
     "data": {
      "text/plain": [
       "6886540391923843073"
      ]
     },
     "execution_count": 16,
     "metadata": {},
     "output_type": "execute_result"
    }
   ],
   "source": [
    "transition[\"episode_id\"][0]"
   ]
  },
  {
   "cell_type": "markdown",
   "metadata": {},
   "source": [
    "### Episode return"
   ]
  },
  {
   "cell_type": "code",
   "execution_count": 17,
   "metadata": {},
   "outputs": [
    {
     "data": {
      "text/plain": [
       "53.0"
      ]
     },
     "execution_count": 17,
     "metadata": {},
     "output_type": "execute_result"
    }
   ],
   "source": [
    "transition[\"episode_return\"][0]"
   ]
  }
 ],
 "metadata": {
  "environment": {
   "name": "pytorch-gpu.1-6.m59",
   "type": "gcloud",
   "uri": "gcr.io/deeplearning-platform-release/pytorch-gpu.1-6:m59"
  },
  "kernelspec": {
   "display_name": "Python 3",
   "language": "python",
   "name": "python3"
  },
  "language_info": {
   "codemirror_mode": {
    "name": "ipython",
    "version": 3
   },
   "file_extension": ".py",
   "mimetype": "text/x-python",
   "name": "python",
   "nbconvert_exporter": "python",
   "pygments_lexer": "ipython3",
   "version": "3.7.8"
  }
 },
 "nbformat": 4,
 "nbformat_minor": 4
}
